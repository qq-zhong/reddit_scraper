{
 "cells": [
  {
   "cell_type": "code",
   "execution_count": 1,
   "id": "94c34157",
   "metadata": {},
   "outputs": [],
   "source": [
    "import praw"
   ]
  },
  {
   "cell_type": "code",
   "execution_count": 4,
   "id": "b4d708b6",
   "metadata": {},
   "outputs": [],
   "source": [
    "reddit = praw.Reddit(\n",
    "    client_id=\"nganiubqZI_9E3x6DzdVNA\", #nganiubqZI_9E3x6DzdVNA\n",
    "    client_secret=\"J2UIiw8NtO_0loA2ejcpJSmJZC39PQ\",\n",
    "    user_agent=\"pc scrape:nganiubqZI_9E3x6DzdVNA:1.0\",\n",
    ")"
   ]
  },
  {
   "cell_type": "code",
   "execution_count": 5,
   "id": "9d23d86d",
   "metadata": {},
   "outputs": [
    {
     "name": "stdout",
     "output_type": "stream",
     "text": [
      "True\n"
     ]
    }
   ],
   "source": [
    "print(reddit.read_only)"
   ]
  },
  {
   "cell_type": "code",
   "execution_count": 6,
   "id": "9ae689a5",
   "metadata": {},
   "outputs": [
    {
     "name": "stdout",
     "output_type": "stream",
     "text": [
      "test\n",
      "-\n",
      "-\n",
      "The Risks of Relying on a Virtual Health AssistantÂ\n",
      "Medical Data Entry Technology: The Future of Effective, Efficient Medical Care - RemarkMart -\n",
      "Smart Medical Record Keeping is Essential to Treatment\n",
      "The Benefits of Medical Data Entry\n",
      "just a test\n",
      "Test\n",
      "-\n"
     ]
    }
   ],
   "source": [
    "for submission in reddit.subreddit(\"test\").hot(limit=10):\n",
    "    print(submission.title)"
   ]
  },
  {
   "cell_type": "code",
   "execution_count": 9,
   "id": "3941d107",
   "metadata": {},
   "outputs": [
    {
     "name": "stdout",
     "output_type": "stream",
     "text": [
      "news\n",
      "News\n"
     ]
    }
   ],
   "source": [
    "subreddit = reddit.subreddit(\"news\")\n",
    "print(subreddit.display_name)\n",
    "# Output: redditdev\n",
    "print(subreddit.title)\n",
    "# Output: reddit development\n",
    "#print(subreddit.description)\n",
    "# Output: a subreddit for discussion of ...\n",
    "\n"
   ]
  },
  {
   "cell_type": "code",
   "execution_count": 10,
   "id": "ee24733e",
   "metadata": {},
   "outputs": [
    {
     "name": "stdout",
     "output_type": "stream",
     "text": [
      "Woman charged with killing her 3 kids planned it all out, prosecutors allege\n",
      "5397\n",
      "10x1tcs\n",
      "https://www.cbsnews.com/news/lindsay-clancy-charged-killing-her-3-kids-planned-it-all-out-prosecutors-allege/\n",
      "Dominion Voting attorney calls out Fox for missing evidence in defamation lawsuit\n",
      "2253\n",
      "10x6k9w\n",
      "https://www.cnbc.com/2023/02/08/dominion-fox-missing-evidence-lawsuit.html\n",
      "Texas man arrested for stealing 2 monkeys from Dallas Zoo says he'll do it again if released, court documents show\n",
      "14966\n",
      "10wr775\n",
      "https://www.cbsnews.com/news/davion-irvin-dallas-zoo-monkey-theft-suspect-said-hed-do-it-again-emperor-tamarin/\n",
      "City swamped by visitors after 2019 wild poppies \"super bloom\" warns outsiders to steer clear this time\n",
      "2255\n",
      "10wxldk\n",
      "https://www.cbsnews.com/news/lake-elsinore-2019-wild-poppies-super-bloom-outsiders-steer-clear/\n",
      "Heat pumps are defying Maine’s winters and oil industry pushback\n",
      "719\n",
      "10x7jhu\n",
      "https://www.washingtonpost.com/climate-environment/2023/02/07/maine-gas-industry-heat-pumps/?utm_source=reddit.com&utm_source=reddit.com\n",
      "‘We will not tolerate theft or endangerment of our animals’: Keepers find fence cut at Houston Zoo\n",
      "2640\n",
      "10wum2g\n",
      "https://www.click2houston.com/news/local/2023/02/07/we-will-not-tolerate-theft-or-endangerment-of-our-animals-keepers-find-fence-cut-at-houston-zoo/\n",
      "Nintendo promises 10% pay hike even as it trims profit outlook\n",
      "395\n",
      "10x8gci\n",
      "https://www.reuters.com/technology/nintendo-trims-annual-profit-outlook-firmer-yen-2023-02-07/\n",
      "Tyre Nichols’ death: Memphis officer texted photo of Nichols after beating to at least 5 people\n",
      "32781\n",
      "10wilco\n",
      "https://www.kiro7.com/news/trending/tyre-nichols-death-memphis-officer-texted-photo-nichols-after-beating-least-5-people/G5LWREV2TVBLPPBRPAOQ5MY5CQ/?outputType=amp\n",
      "8 more Memphis police officers to face charges in Tyre Nichols case, city attorney says - CBS News\n",
      "8494\n",
      "10wl1pc\n",
      "https://www.cbsnews.com/news/tyre-nichols-death-eight-more-officers-charges-memphis-police/\n",
      "Colgate-Palmolive recalls 4.9 million units of Fabuloso multipurpose cleaner citing risk of exposure to bacteria\n",
      "434\n",
      "10x5dlb\n",
      "https://www.nbcnews.com/news/rcna69696\n"
     ]
    }
   ],
   "source": [
    "for submission in subreddit.hot(limit=10):\n",
    "    print(submission.title)\n",
    "    # Output: the submission's title\n",
    "    print(submission.score)\n",
    "    # Output: the submission's score\n",
    "    print(submission.id)\n",
    "    # Output: the submission's ID\n",
    "    print(submission.url)\n",
    "    print('\\n');\n"
   ]
  },
  {
   "cell_type": "code",
   "execution_count": 11,
   "id": "7353588f",
   "metadata": {},
   "outputs": [
    {
     "name": "stdout",
     "output_type": "stream",
     "text": [
      "‘We will not tolerate theft or endangerment of our animals’: Keepers find fence cut at Houston Zoo\n"
     ]
    }
   ],
   "source": [
    "submission = reddit.submission(\"10wum2g\")\n",
    "print(submission.title)\n"
   ]
  },
  {
   "cell_type": "code",
   "execution_count": null,
   "id": "f9e149e2",
   "metadata": {},
   "outputs": [],
   "source": []
  }
 ],
 "metadata": {
  "kernelspec": {
   "display_name": "Python 3 (ipykernel)",
   "language": "python",
   "name": "python3"
  },
  "language_info": {
   "codemirror_mode": {
    "name": "ipython",
    "version": 3
   },
   "file_extension": ".py",
   "mimetype": "text/x-python",
   "name": "python",
   "nbconvert_exporter": "python",
   "pygments_lexer": "ipython3",
   "version": "3.8.9"
  }
 },
 "nbformat": 4,
 "nbformat_minor": 5
}
