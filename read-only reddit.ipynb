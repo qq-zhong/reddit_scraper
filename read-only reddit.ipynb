{
 "cells": [
  {
   "cell_type": "code",
   "execution_count": 2,
   "id": "5fddcd66",
   "metadata": {},
   "outputs": [],
   "source": [
    "import praw"
   ]
  },
  {
   "cell_type": "code",
   "execution_count": 3,
   "id": "938454b3",
   "metadata": {},
   "outputs": [],
   "source": [
    "reddit = praw.Reddit(\n",
    "    client_id=\"nganiubqZI_9E3x6DzdVNA\", #nganiubqZI_9E3x6DzdVNA\n",
    "    client_secret=\"J2UIiw8NtO_0loA2ejcpJSmJZC39PQ\",\n",
    "    user_agent=\"pc scrape:nganiubqZI_9E3x6DzdVNA:1.0\",\n",
    ")"
   ]
  },
  {
   "cell_type": "code",
   "execution_count": 4,
   "id": "a9f23ee9",
   "metadata": {},
   "outputs": [
    {
     "name": "stdout",
     "output_type": "stream",
     "text": [
      "True\n"
     ]
    }
   ],
   "source": [
    "print(reddit.read_only)"
   ]
  },
  {
   "cell_type": "code",
   "execution_count": 5,
   "id": "90bd9446",
   "metadata": {},
   "outputs": [
    {
     "name": "stdout",
     "output_type": "stream",
     "text": [
      "test\n",
      "Testing u/profanitycounter\n",
      "【隠蔽】NHK船岡久嗣アナの逮捕記事「部屋に向かった女性がドアを閉める直前にドアを開け、部屋に侵入した」の部分が削除されるｗｗｗｗｗ\n",
      "【隠蔽】NHK船岡久嗣アナの逮捕記事「部屋に向かった女性がドアを閉める直前にドアを開け、部屋に侵入した」の部分が削除されるｗｗｗｗｗ\n",
      "てｓｔ\n",
      "Testing orange text\n",
      "testing what I can\n",
      "Does BioSight-ID record your screen or just you?\n",
      "Test to see how twitter links with video appear on reddit\n",
      "This is title\n"
     ]
    }
   ],
   "source": [
    "for submission in reddit.subreddit(\"test\").hot(limit=10):\n",
    "    print(submission.title)"
   ]
  },
  {
   "cell_type": "code",
   "execution_count": 6,
   "id": "d5ff06e6",
   "metadata": {},
   "outputs": [
    {
     "name": "stdout",
     "output_type": "stream",
     "text": [
      "news\n",
      "News\n"
     ]
    }
   ],
   "source": [
    "subreddit = reddit.subreddit(\"news\")\n",
    "print(subreddit.display_name)\n",
    "# Output: redditdev\n",
    "print(subreddit.title)\n",
    "# Output: reddit development\n",
    "#print(subreddit.description)\n",
    "# Output: a subreddit for discussion of ...\n",
    "\n"
   ]
  },
  {
   "cell_type": "code",
   "execution_count": 7,
   "id": "c7118c3d",
   "metadata": {},
   "outputs": [
    {
     "name": "stdout",
     "output_type": "stream",
     "text": [
      "EPA says it can fine Norfolk Southern $70,000 a day if it falls short of cleaning up and paying for the Ohio toxic train wreck\n",
      "47525\n",
      "119a0uq\n",
      "https://www.cnn.com/2023/02/22/us/ohio-train-derailment-east-palestine-wednesday/index.html\n",
      "\n",
      "\n",
      "Norfolk Southern is paying $6.5 million to derailment victims. Meanwhile, it's shelling out $7.5 billion for shareholders | CNN Business\n",
      "8332\n",
      "119dg8w\n",
      "https://www.cnn.com/2023/02/22/investing/norfolk-southern-share-repurchases/index.html\n",
      "\n",
      "\n",
      "Detective: Colorado Springs club shooter ran neo-Nazi site\n",
      "2297\n",
      "119i1yf\n",
      "https://apnews.com/article/colorado-springs-crime-hate-crimes-d2379dce03c66ea3bc0faa2c5ffb7c21?utm_source=homepage&utm_medium=TopNews&utm_campaign=position_01\n",
      "\n",
      "\n",
      "Fla. lawyer argues pregnant inmate’s fetus is being illegally detained\n",
      "62928\n",
      "118wt0p\n",
      "https://www.washingtonpost.com/nation/2023/02/22/pregnant-woman-fetus-jail-roe/\n",
      "\n",
      "\n",
      "NPR says it's cutting jobs by 10% as ad revenue drops\n",
      "1682\n",
      "119dc3c\n",
      "https://www.npr.org/2023/02/22/1158710498/npr-layoffs-2023\n",
      "\n",
      "\n",
      "Pilot thought his instructor was ‘pretending to take a nap.’ He was dead - National | Globalnews.ca\n",
      "2744\n",
      "11973ta\n",
      "https://globalnews.ca/news/9503032/pilot-flying-instructor-nap-cardiac-arrest-blackpool/\n",
      "\n",
      "\n",
      "Orlando News 13 news crew, 9 yr old girl, shot and killed. Others shot\n",
      "744\n",
      "119j6w7\n",
      "https://www.mynews13.com/fl/orlando/news/2023/02/22/police--shots-fired-near-scene-of-pine-hills-murder-investigation\n",
      "\n",
      "\n",
      "Magnitude 7.2 earthquake strikes Tajikistan, near border with China\n",
      "494\n",
      "119l9uq\n",
      "https://www.reuters.com/world/china-reports-magnitude-73-earthquake-near-border-with-tajikistan-2023-02-23/\n",
      "\n",
      "\n",
      "Lawyers for Trump aide Steve Bannon sue over legal bills\n",
      "1571\n",
      "11985d4\n",
      "https://www.reuters.com/legal/government/lawyers-trump-aide-steve-bannon-sue-over-legal-bills-2023-02-21/\n",
      "\n",
      "\n",
      "Fire breaks out at uranium processing facility in Tennessee\n",
      "1642\n",
      "1197kxc\n",
      "https://www.live5news.com/2023/02/22/fire-breaks-out-uranium-processing-facility-tennessee/\n",
      "\n",
      "\n"
     ]
    }
   ],
   "source": [
    "for submission in subreddit.hot(limit=10):\n",
    "    print(submission.title)\n",
    "    # Output: the submission's title\n",
    "    print(submission.score)\n",
    "    # Output: the submission's score\n",
    "    print(submission.id)\n",
    "    # Output: the submission's ID\n",
    "    print(submission.url)\n",
    "    print('\\n')\n"
   ]
  },
  {
   "cell_type": "code",
   "execution_count": 8,
   "id": "c62ce938",
   "metadata": {},
   "outputs": [
    {
     "name": "stdout",
     "output_type": "stream",
     "text": [
      "‘We will not tolerate theft or endangerment of our animals’: Keepers find fence cut at Houston Zoo\n"
     ]
    }
   ],
   "source": [
    "submission = reddit.submission(\"10wum2g\")\n",
    "print(submission.title)\n"
   ]
  },
  {
   "cell_type": "code",
   "execution_count": 10,
   "id": "0785d289",
   "metadata": {},
   "outputs": [
    {
     "name": "stdout",
     "output_type": "stream",
     "text": [
      "{\n",
      "    \"settings\": {\n",
      "        \"serial\": \"123\",\n",
      "        \"status\": \"2\",\n",
      "        \"ersion\": \"3\"\n",
      "    },\n",
      "    \"config\": {\n",
      "        \"active\": \"4\",\n",
      "        \"version\": \"5\"\n",
      "    }\n",
      "}\n"
     ]
    }
   ],
   "source": [
    "import json\n",
    "json_serial = \"123\"\n",
    "my_json = {\n",
    "    'settings': {\n",
    "        \"serial\": json_serial,\n",
    "        \"status\": '2',\n",
    "        \"ersion\": '3',\n",
    "    },\n",
    "    'config': {\n",
    "        'active': '4',\n",
    "        'version': '5'\n",
    "    }\n",
    "}\n",
    "print(json.dumps(my_json, indent = 4))\n"
   ]
  },
  {
   "cell_type": "code",
   "execution_count": 42,
   "id": "aad8fdb8",
   "metadata": {},
   "outputs": [
    {
     "name": "stdout",
     "output_type": "stream",
     "text": [
      "DATA: [{'a': 'A', 'b': (2, 4), 'c': 3.0, 'f': 2.3}, {'a': 'A', 'b': (2, 4), 'c': 3.0, 'f': 2.3}]\n",
      "<class 'list'>\n",
      "[\n",
      "    {\n",
      "        \"a\": \"A\",\n",
      "        \"b\": [\n",
      "            2,\n",
      "            4\n",
      "        ],\n",
      "        \"c\": 3.0,\n",
      "        \"f\": 2.3\n",
      "    },\n",
      "    {\n",
      "        \"a\": \"A\",\n",
      "        \"b\": [\n",
      "            2,\n",
      "            4\n",
      "        ],\n",
      "        \"c\": 3.0,\n",
      "        \"f\": 2.3\n",
      "    }\n",
      "]\n"
     ]
    }
   ],
   "source": [
    "data = [ { 'a':'A', 'b':(2, 4), 'c':3.0 } ]\n",
    "data[0]['f'] = 2.3\n",
    "data.append(data[0])\n",
    "print ('DATA:', repr(data))\n",
    "print(type(data))\n",
    "print(json.dumps(data, indent = 4))"
   ]
  },
  {
   "cell_type": "code",
   "execution_count": 63,
   "id": "69681161",
   "metadata": {},
   "outputs": [],
   "source": [
    "userdata = { \"data\":[]}\n",
    "\n",
    "def fil_userdata():\n",
    "  for i in range(0,5):\n",
    "    user = {}\n",
    "    user[\"name\"]= \"a\"\n",
    "    user[\"age\"]= 12\n",
    "    user[\"country\"]= \"canada\"\n",
    "    \n",
    "    add_user(dict(user))\n",
    "\n",
    "def add_user(user):\n",
    "  userdata[\"data\"].append(user)\n",
    "\n",
    "fil_userdata()"
   ]
  },
  {
   "cell_type": "code",
   "execution_count": 64,
   "id": "2ce2721c",
   "metadata": {},
   "outputs": [],
   "source": [
    "userdata['data']\n",
    "b = dict(userdata['data'][0])"
   ]
  },
  {
   "cell_type": "code",
   "execution_count": 65,
   "id": "19c608a3",
   "metadata": {},
   "outputs": [
    {
     "data": {
      "text/plain": [
       "{'name': 'a', 'age': 12, 'country': 'canada'}"
      ]
     },
     "execution_count": 65,
     "metadata": {},
     "output_type": "execute_result"
    }
   ],
   "source": [
    "b"
   ]
  },
  {
   "cell_type": "code",
   "execution_count": 70,
   "id": "0cab89d7",
   "metadata": {},
   "outputs": [
    {
     "name": "stdout",
     "output_type": "stream",
     "text": [
      "[\n",
      "    {\n",
      "        \"name\": \"a\",\n",
      "        \"age\": 12,\n",
      "        \"country\": \"canada\"\n",
      "    },\n",
      "    {\n",
      "        \"name\": \"a\",\n",
      "        \"age\": 12,\n",
      "        \"country\": \"canada\"\n",
      "    },\n",
      "    {\n",
      "        \"name\": \"a\",\n",
      "        \"age\": 12,\n",
      "        \"country\": \"canada\"\n",
      "    },\n",
      "    {\n",
      "        \"name\": \"a\",\n",
      "        \"age\": 12,\n",
      "        \"country\": \"canada\"\n",
      "    },\n",
      "    {\n",
      "        \"name\": \"a\",\n",
      "        \"age\": 12,\n",
      "        \"country\": \"canada\"\n",
      "    }\n",
      "]\n"
     ]
    }
   ],
   "source": [
    "#print ('DATA:', repr(a))\n",
    "print(json.dumps(userdata[\"data\"],indent = 4))"
   ]
  },
  {
   "cell_type": "code",
   "execution_count": 72,
   "id": "23cfc3f0",
   "metadata": {},
   "outputs": [],
   "source": [
    "json_object = json.dumps(userdata[\"data\"], indent=4)\n",
    " \n",
    "# Writing to sample.json\n",
    "with open(\"sample.json\", \"w\") as outfile:\n",
    "    outfile.write(json_object)"
   ]
  },
  {
   "cell_type": "code",
   "execution_count": 76,
   "id": "36173ef5",
   "metadata": {},
   "outputs": [
    {
     "name": "stdout",
     "output_type": "stream",
     "text": [
      "{'name': 'a', 'age': 12, 'country': 'canada'}\n",
      "<class 'dict'>\n",
      "a\n",
      "{'name': 'a', 'age': 12, 'country': 'canada'}\n",
      "<class 'dict'>\n",
      "a\n",
      "{'name': 'a', 'age': 12, 'country': 'canada'}\n",
      "<class 'dict'>\n",
      "a\n",
      "{'name': 'a', 'age': 12, 'country': 'canada'}\n",
      "<class 'dict'>\n",
      "a\n",
      "{'name': 'a', 'age': 12, 'country': 'canada'}\n",
      "<class 'dict'>\n",
      "a\n",
      "<class 'list'>\n"
     ]
    }
   ],
   "source": [
    "f = open('sample.json')\n",
    "  \n",
    "# returns JSON object as \n",
    "# a dictionary\n",
    "data = json.load(f)\n",
    "  \n",
    "# Iterating through the json\n",
    "# list\n",
    "for i in data:\n",
    "    print(i)\n",
    "    print(type(i))\n",
    "    print(i[\"name\"])\n",
    "\n",
    "print(type(data))"
   ]
  },
  {
   "cell_type": "code",
   "execution_count": null,
   "id": "d6e329a5",
   "metadata": {},
   "outputs": [],
   "source": []
  }
 ],
 "metadata": {
  "kernelspec": {
   "display_name": "Python 3 (ipykernel)",
   "language": "python",
   "name": "python3"
  },
  "language_info": {
   "codemirror_mode": {
    "name": "ipython",
    "version": 3
   },
   "file_extension": ".py",
   "mimetype": "text/x-python",
   "name": "python",
   "nbconvert_exporter": "python",
   "pygments_lexer": "ipython3",
   "version": "3.8.9"
  }
 },
 "nbformat": 4,
 "nbformat_minor": 5
}
