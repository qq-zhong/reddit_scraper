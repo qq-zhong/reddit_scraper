{
 "cells": [
  {
   "cell_type": "code",
   "execution_count": 1,
   "id": "a0c1135d",
   "metadata": {},
   "outputs": [],
   "source": [
    "import praw"
   ]
  },
  {
   "cell_type": "code",
   "execution_count": 3,
   "id": "8e91fd91",
   "metadata": {},
   "outputs": [
    {
     "name": "stdout",
     "output_type": "stream",
     "text": [
      "True\n"
     ]
    }
   ],
   "source": [
    "reddit = praw.Reddit(\n",
    "    client_id=\"nganiubqZI_9E3x6DzdVNA\",\n",
    "    client_secret=\"J2UIiw8NtO_0loA2ejcpJSmJZC39PQ\",\n",
    "    password=\"\",\n",
    "    user_agent=\"pc:nganiubqZI_9E3x6DzdVNA:1.0\",\n",
    "    username=\"myroommatesaregreat\",\n",
    ")\n",
    "\n",
    "print(reddit.read_only)"
   ]
  },
  {
   "cell_type": "code",
   "execution_count": null,
   "id": "09b402e0",
   "metadata": {},
   "outputs": [],
   "source": []
  }
 ],
 "metadata": {
  "kernelspec": {
   "display_name": "Python 3 (ipykernel)",
   "language": "python",
   "name": "python3"
  },
  "language_info": {
   "codemirror_mode": {
    "name": "ipython",
    "version": 3
   },
   "file_extension": ".py",
   "mimetype": "text/x-python",
   "name": "python",
   "nbconvert_exporter": "python",
   "pygments_lexer": "ipython3",
   "version": "3.8.9"
  }
 },
 "nbformat": 4,
 "nbformat_minor": 5
}
